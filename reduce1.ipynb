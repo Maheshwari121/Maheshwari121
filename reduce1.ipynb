{
  "nbformat": 4,
  "nbformat_minor": 0,
  "metadata": {
    "colab": {
      "name": "reduce1.ipynb",
      "provenance": [],
      "authorship_tag": "ABX9TyM3Bimv20qBeadXw3PBu46t",
      "include_colab_link": true
    },
    "kernelspec": {
      "name": "python3",
      "display_name": "Python 3"
    },
    "language_info": {
      "name": "python"
    }
  },
  "cells": [
    {
      "cell_type": "markdown",
      "metadata": {
        "id": "view-in-github",
        "colab_type": "text"
      },
      "source": [
        "<a href=\"https://colab.research.google.com/github/Maheshwari121/Maheshwari121/blob/main/reduce1.ipynb\" target=\"_parent\"><img src=\"https://colab.research.google.com/assets/colab-badge.svg\" alt=\"Open In Colab\"/></a>"
      ]
    },
    {
      "cell_type": "code",
      "execution_count": 9,
      "metadata": {
        "colab": {
          "base_uri": "https://localhost:8080/"
        },
        "id": "sjk1d_OkNhaS",
        "outputId": "636f637a-412b-41ed-cbb0-4b8b5caf24af"
      },
      "outputs": [
        {
          "output_type": "stream",
          "name": "stdout",
          "text": [
            "120\n"
          ]
        }
      ],
      "source": [
        "##reduce function  in python\n",
        "from functools import reduce\n",
        "mylist=[1,2,3,4,5]\n",
        "prod = reduce( ( lambda x,y : x*y) , mylist)\n",
        "\n",
        "'''1 1=1\n",
        "2 1=2\n",
        "2 3=6\n",
        "6 4=24\n",
        "24 5=120'''\n",
        "print (prod)"
      ]
    },
    {
      "cell_type": "code",
      "source": [
        "from functools import reduce\n",
        "def sum_num(a,b):\n",
        "    return a+b\n",
        "lil = reduce(sum_num, [1,2,3,4])\n",
        "print(lil)\n"
      ],
      "metadata": {
        "colab": {
          "base_uri": "https://localhost:8080/"
        },
        "id": "vNbmZBzERdeH",
        "outputId": "e3f2801b-3880-40db-d32d-20418bb1f100"
      },
      "execution_count": 10,
      "outputs": [
        {
          "output_type": "stream",
          "name": "stdout",
          "text": [
            "10\n"
          ]
        }
      ]
    }
  ]
}