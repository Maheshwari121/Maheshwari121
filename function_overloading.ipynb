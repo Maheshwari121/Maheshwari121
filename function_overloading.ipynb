{
  "nbformat": 4,
  "nbformat_minor": 0,
  "metadata": {
    "colab": {
      "name": "function overloading.ipynb",
      "provenance": [],
      "authorship_tag": "ABX9TyM9agWF/5sOfNZ5UvlGHv8j",
      "include_colab_link": true
    },
    "kernelspec": {
      "name": "python3",
      "display_name": "Python 3"
    },
    "language_info": {
      "name": "python"
    }
  },
  "cells": [
    {
      "cell_type": "markdown",
      "metadata": {
        "id": "view-in-github",
        "colab_type": "text"
      },
      "source": [
        "<a href=\"https://colab.research.google.com/github/Maheshwari121/Maheshwari121/blob/main/function_overloading.ipynb\" target=\"_parent\"><img src=\"https://colab.research.google.com/assets/colab-badge.svg\" alt=\"Open In Colab\"/></a>"
      ]
    },
    {
      "cell_type": "code",
      "execution_count": 1,
      "metadata": {
        "colab": {
          "base_uri": "https://localhost:8080/"
        },
        "id": "nAc2TPPSkA8q",
        "outputId": "c43d70b8-326a-4b8d-8ad3-009d904b77f5"
      },
      "outputs": [
        {
          "output_type": "stream",
          "name": "stdout",
          "text": [
            "11\n",
            "Hi becil\n"
          ]
        }
      ],
      "source": [
        "def add(datatype, *args):\n",
        "  \n",
        "    # if datatype is int\n",
        "    # initialize answer as 0\n",
        "    if datatype =='int':\n",
        "        answer = 0\n",
        "          \n",
        "    # if datatype is str\n",
        "    # initialize answer as ''\n",
        "    if datatype =='str':\n",
        "        answer =''\n",
        "  \n",
        "    # Traverse through the arguments\n",
        "    for x in args:\n",
        "  \n",
        "        # This will do addition if the \n",
        "        # arguments are int. Or concatenation \n",
        "        # if the arguments are str\n",
        "        answer = answer + x\n",
        "  \n",
        "    print(answer)\n",
        "  \n",
        "# Integer\n",
        "add('int', 5, 6)\n",
        "  \n",
        "# String\n",
        "add('str', 'Hi ', 'becil')"
      ]
    }
  ]
}